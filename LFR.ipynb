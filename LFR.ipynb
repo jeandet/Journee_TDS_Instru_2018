{
 "cells": [
  {
   "cell_type": "markdown",
   "metadata": {
    "ExecuteTime": {
     "end_time": "2018-10-01T17:53:00.643915Z",
     "start_time": "2018-10-01T17:53:00.636038Z"
    },
    "code_folding": [],
    "heading_collapsed": true,
    "slideshow": {
     "slide_type": "slide"
    }
   },
   "source": [
    "# Low Frequency Receiver (LFR)\n",
    "\n",
    "<div>\n",
    "<center>\n",
    "<img src=\"resources/solar-orbiter-landscape-image-astrium.jpg\" width=\"800\" align=\"center\">\n",
    "</center>\n",
    "</div>\n",
    "\n",
    "<div>\n",
    "<center>\n",
    "<img src=\"resources/logo_LPP.png\" width=\"200\" align=\"left\">\n",
    "</center>\n",
    "</div>\n",
    "\n",
    "<p align=\"center\">\n",
    "  <b>Alexis Jeandet &lt;alexis.jeandet@lpp.polytechnique.fr&gt;:</b><br>\n",
    "  <a href=\"https://github.com/jeandet\">Github:jeandet</a> |\n",
    "  <a href=\"https://gitter.im/jeandet\">Gitter:jeandet</a> |\n",
    "  <a href=\"https://freenode.net/\">IRC@freenode:jeandet</a>\n",
    "  <br>\n",
    "</p>\n"
   ]
  },
  {
   "cell_type": "markdown",
   "metadata": {
    "slideshow": {
     "slide_type": "slide"
    }
   },
   "source": [
    "# Laboratory of Plasma Physics (LPP)\n"
   ]
  },
  {
   "cell_type": "markdown",
   "metadata": {
    "slideshow": {
     "slide_type": "subslide"
    }
   },
   "source": [
    "# Laboratory of Plasma Physics (LPP)\n",
    "\n",
    "- Since 2009, fusion between LPTP and CETP\n",
    "- Around 110+ people \n",
    "- 3 Scientific teams, [Fusion, Cold, Space] Plasmas "
   ]
  },
  {
   "cell_type": "markdown",
   "metadata": {
    "slideshow": {
     "slide_type": "subslide"
    }
   },
   "source": [
    "# Laboratory of Plasma Physics (LPP)\n",
    "\n",
    "\n",
    "- Plasmas are used in many daily applications, TVs, lights, energy production, air cleaning, IC manufacturing...  \n",
    "\n",
    "- On the cosmic scale, 99 % of observed matter is ionized and therefore in the plasma state.\n"
   ]
  },
  {
   "cell_type": "markdown",
   "metadata": {
    "slideshow": {
     "slide_type": "subslide"
    }
   },
   "source": [
    "# Laboratory of Plasma Physics (LPP)\n",
    "\n",
    "- Natural Plasmas are mostly in space and need in-situ measurements such as:\n",
    " - particles (**particles detectors**, **spectrometers**) \n",
    " - E-field (Electric antenna)\n",
    " - B-field (**Search-coils**, Flux-gates)"
   ]
  },
  {
   "cell_type": "markdown",
   "metadata": {
    "slideshow": {
     "slide_type": "slide"
    }
   },
   "source": [
    "# Solar Orbiter\n",
    "\n",
    "- Sun observatory and Solar wind in-situ measurements\n",
    "- Launch date: end of 2020\n",
    "- Orbit 0.3 -> 0.8 AU\n",
    "- Mass total/payload: 1800kg/190kg\n",
    "- **Power 1100W**\n",
    "- **Data downlink ~150 kbps**"
   ]
  },
  {
   "cell_type": "markdown",
   "metadata": {
    "slideshow": {
     "slide_type": "subslide"
    }
   },
   "source": [
    "<div>\n",
    "<center>\n",
    "<img src=\"resources/Solar_Orbiter_payload_annotated_625.jpg\" width=\"800\" align=\"center\">\n",
    "</center>\n",
    "</div>\n"
   ]
  },
  {
   "cell_type": "markdown",
   "metadata": {
    "slideshow": {
     "slide_type": "subslide"
    }
   },
   "source": [
    "# Solar Orbiter\n",
    "\n",
    "Small amount of telemetry implies heavy onboard computation."
   ]
  },
  {
   "cell_type": "markdown",
   "metadata": {
    "slideshow": {
     "slide_type": "slide"
    }
   },
   "source": [
    "# Radio Plasma Waves instrument (RPW)\n",
    "\n",
    "- Focuses on waves( **E field** & **B field** ) measurements from **~0Hz** to **16MHz**\n",
    "- Composed of **BIAS**, **TNR-HFR**, **TDS**, **DPU**, **LVPS-PDU**, **SCM**, **LFR**\n",
    "- ~10kb/s average telemetry\n",
    "- ~5.5kg\n",
    "- ~13W\n"
   ]
  },
  {
   "cell_type": "markdown",
   "metadata": {
    "ExecuteTime": {
     "end_time": "2018-10-02T17:36:38.087646Z",
     "start_time": "2018-10-02T17:36:38.083481Z"
    },
    "slideshow": {
     "slide_type": "subslide"
    }
   },
   "source": [
    "# Radio Plasma Waves instrument (RPW)\n",
    "\n",
    "<div>\n",
    "<center>\n",
    "<img src=\"resources/principe_RPW.png\" width=\"800\" align=\"center\">\n",
    "</center>\n",
    "</div>\n"
   ]
  },
  {
   "cell_type": "markdown",
   "metadata": {
    "slideshow": {
     "slide_type": "slide"
    }
   },
   "source": [
    "# Low Frequency Receiver (LFR)\n",
    "\n",
    "- Produces waveforms at 24576Hz, 4096Hz, 256Hz and 16Hz (F[0,1,2,3])"
   ]
  },
  {
   "cell_type": "markdown",
   "metadata": {
    "slideshow": {
     "slide_type": "fragment"
    }
   },
   "source": [
    "- Computes 256 points FFTs on F0 to F2 continuously (5 components 2E and 3B)"
   ]
  },
  {
   "cell_type": "markdown",
   "metadata": {
    "slideshow": {
     "slide_type": "fragment"
    }
   },
   "source": [
    "- Computes and averages Spectral Matrices continuously (5x5 matrix)"
   ]
  },
  {
   "cell_type": "markdown",
   "metadata": {
    "slideshow": {
     "slide_type": "fragment"
    }
   },
   "source": [
    "- Extracts high level Plasma quantities such as normal wave vector, wave ellipticity estimator, wave degree of polarization, z-component of the normalized Poynting vector, phase velocity estimator,..."
   ]
  },
  {
   "cell_type": "markdown",
   "metadata": {
    "slideshow": {
     "slide_type": "fragment"
    }
   },
   "source": [
    "- Provides continuous waveforms up to 4096S/s on demand (Burst modes)"
   ]
  },
  {
   "cell_type": "markdown",
   "metadata": {
    "slideshow": {
     "slide_type": "slide"
    }
   },
   "source": [
    "# Low Frequency Receiver (LFR)\n",
    "\n",
    "- 5 **E-field** and 3 **B-field** waves from ~0Hz to 10kHz -> 8 inputs\n",
    "- less than 2W\n",
    "- ~3-4kb/s average telemetry\n",
    "- 240x160mm form factor\n",
    "- Radiation hardened and fault tolerant\n",
    "- -30°C : +75°C temperature range"
   ]
  },
  {
   "cell_type": "markdown",
   "metadata": {
    "slideshow": {
     "slide_type": "slide"
    }
   },
   "source": [
    "<div>\n",
    "<center>\n",
    "<img src=\"resources/LFR_Block_Diagram.jpg\" width=\"80%\" align=\"center\">\n",
    "</center>\n",
    "</div>"
   ]
  },
  {
   "cell_type": "markdown",
   "metadata": {
    "slideshow": {
     "slide_type": "slide"
    }
   },
   "source": [
    "<div>\n",
    "<center>\n",
    "<img src=\"resources/LFR-PFM-Pict.png\" width=\"80%\" align=\"center\">\n",
    "</center>\n",
    "</div>"
   ]
  },
  {
   "cell_type": "markdown",
   "metadata": {
    "slideshow": {
     "slide_type": "slide"
    }
   },
   "source": [
    "# Sampling you said... what about aliasing? \n",
    "## Strategy \n",
    "\n",
    "- 10KHz signal bandwidth \n",
    "- limited telemetry -> sampling frequency close to 2 x 10kHz\n",
    "- Expected resolution ~16 bits -> ~96dB dynamic \n",
    "- Full analog filtering is near impossible or stupid :)\n",
    "- OPAMP power consumption is ~2.5mW"
   ]
  },
  {
   "cell_type": "markdown",
   "metadata": {
    "slideshow": {
     "slide_type": "slide"
    }
   },
   "source": [
    "# Sampling you said... what about aliasing? \n",
    "## Analog front-end \n",
    "<div>\n",
    "<center>\n",
    "<img src=\"resources/LFR_first_stage_bands.png\" width=\"70%\" align=\"center\">\n",
    "</center>\n",
    "</div>\n"
   ]
  },
  {
   "cell_type": "markdown",
   "metadata": {
    "ExecuteTime": {
     "end_time": "2018-10-03T13:47:30.329399Z",
     "start_time": "2018-10-03T13:47:30.319735Z"
    },
    "slideshow": {
     "slide_type": "slide"
    }
   },
   "source": [
    "# Sampling you said... what about aliasing? \n",
    "## Analog front-end\n",
    "<div>\n",
    "<center>\n",
    "<img src=\"resources/LFR_front_end.png\" width=\"80%\" align=\"center\">\n",
    "</center>\n",
    "</div>\n"
   ]
  },
  {
   "cell_type": "markdown",
   "metadata": {
    "ExecuteTime": {
     "end_time": "2018-10-03T13:49:13.912460Z",
     "start_time": "2018-10-03T13:49:13.900218Z"
    },
    "slideshow": {
     "slide_type": "slide"
    }
   },
   "source": [
    "# Sampling you said... what about aliasing? \n",
    "## Analog front-end \n",
    "<div>\n",
    "<center>\n",
    "<img src=\"resources/LFR_front_end_TF.png\" width=\"80%\" align=\"center\">\n",
    "</center>\n",
    "</div>\n"
   ]
  },
  {
   "cell_type": "markdown",
   "metadata": {
    "slideshow": {
     "slide_type": "slide"
    }
   },
   "source": [
    "# Sampling you said... what about aliasing?\n",
    "## Digital filters \\o/\n",
    "<div>\n",
    "<center>\n",
    "<img src=\"resources/LFR_first_stage_IIR_bands.png\" width=\"70%\" align=\"center\">\n",
    "</center>\n",
    "</div>"
   ]
  },
  {
   "cell_type": "markdown",
   "metadata": {
    "slideshow": {
     "slide_type": "slide"
    }
   },
   "source": [
    "# Digital filters\n",
    "## general considerations\n",
    "\n",
    "- usual form $$y(n) = \\sum_{i=0}^{M} b_i x(n-i) - \\sum_{j=0}^{N} a_j y(n-j)$$"
   ]
  },
  {
   "cell_type": "markdown",
   "metadata": {
    "slideshow": {
     "slide_type": "slide"
    }
   },
   "source": [
    "# Digital filters\n",
    "## general considerations\n",
    "<div>\n",
    "<center>\n",
    "<img src=\"resources/DFI_IIR.png\" width=\"70%\" align=\"center\">\n",
    "</center>\n",
    "</div>"
   ]
  },
  {
   "cell_type": "markdown",
   "metadata": {
    "slideshow": {
     "slide_type": "slide"
    }
   },
   "source": [
    "# Digital filters\n",
    "## general considerations\n",
    "\n",
    "**Space FPGAs (2008-2014):**\n",
    "\n",
    "- Few or no DSP blocks (0 to 120)\n",
    "- Few RAM blocks (up to 540kb)\n",
    "- Slow (LEON3 @ 25MHz max)\n"
   ]
  },
  {
   "cell_type": "markdown",
   "metadata": {
    "slideshow": {
     "slide_type": "slide"
    }
   },
   "source": [
    "<div>\n",
    "<center>\n",
    "<img src=\"resources/space_components.png\" width=\"70%\" align=\"center\">\n",
    "</center>\n",
    "</div>"
   ]
  },
  {
   "cell_type": "markdown",
   "metadata": {
    "slideshow": {
     "slide_type": "slide"
    }
   },
   "source": [
    "# Ok, digital filter(s) but which one(s)?\n",
    "\n",
    "- **FIR** -> too many operations and memory\n",
    "- **Multi-rate FIR** -> still too many memory\n",
    "- **CIC** -> benefits come at high decimation rate, sin(X)/X like TF\n",
    "- **IIR** -> needs careful design"
   ]
  },
  {
   "cell_type": "markdown",
   "metadata": {
    "slideshow": {
     "slide_type": "slide"
    }
   },
   "source": [
    "<div>\n",
    "<center>\n",
    "<img src=\"resources/LFR_processing_flow.png\" width=\"80%\" align=\"center\">\n",
    "</center>\n",
    "</div>"
   ]
  },
  {
   "cell_type": "markdown",
   "metadata": {
    "slideshow": {
     "slide_type": "slide"
    }
   },
   "source": [
    "# 98 304Hz to 24 576Hz filter\n",
    "\n",
    "- 5 stages Direct Form I\n",
    "<div>\n",
    "<center>\n",
    "<img src=\"resources/IIR_TF.png\" width=\"80%\" align=\"center\">\n",
    "</center>\n",
    "</div>"
   ]
  },
  {
   "cell_type": "markdown",
   "metadata": {
    "slideshow": {
     "slide_type": "slide"
    }
   },
   "source": [
    "# 98 304Hz to 24 576Hz filter\n",
    "## RTL implementation considerations\n",
    "\n",
    "- Time over space tradeoff\n",
    "- One **MAC** capable **ALU** to filter them all\n",
    "- Use one **RAM** block to store samples instead of R-Cells\n",
    "- Design really close to what a simple CPU could be\n"
   ]
  },
  {
   "cell_type": "markdown",
   "metadata": {
    "slideshow": {
     "slide_type": "slide"
    }
   },
   "source": [
    "# 98 304Hz to 24 576Hz filter\n",
    "## RTL implementation flow, don't try to be smart\n",
    "\n",
    "1. Matlab or SciPy.signal\n",
    "2. Naive implementation C/C++/Python...\n",
    "3. Fixed point conversion/optimization\n",
    "4. RTL implementation with tests\n",
    "\n",
    "observations:\n",
    "* impulse response is easy to compute...\n",
    "* one can read/write files from VHDL simulation..."
   ]
  },
  {
   "cell_type": "markdown",
   "metadata": {
    "slideshow": {
     "slide_type": "slide"
    }
   },
   "source": [
    "# 98 304Hz to 24 576Hz filter\n",
    "## Implementation pitfalls\n",
    "\n",
    "- No RAM clearing breaks causality!\n",
    "- Filter stage structures matters! (Direct Form I/II...)\n",
    "- Last clock cycles can be hard to save\n"
   ]
  },
  {
   "cell_type": "markdown",
   "metadata": {
    "slideshow": {
     "slide_type": "slide"
    }
   },
   "source": [
    "<div>\n",
    "<center>\n",
    "<img src=\"resources/bugs_meme.jpeg\" width=\"60%\" align=\"center\">\n",
    "</center>\n",
    "</div>"
   ]
  },
  {
   "cell_type": "markdown",
   "metadata": {
    "slideshow": {
     "slide_type": "slide"
    }
   },
   "source": [
    "# Offset bug\n",
    "\n",
    "Sometime LFR starts with a random offset or an oscillation on some channels\n",
    "\n",
    "1. reproduce on instrument\n",
    "2. investigate \n",
    "3. reproduce on simulation\n",
    "4. implement non regression test\n",
    "5. fix the bug\n",
    "6. buy new FPGAs :(\n"
   ]
  },
  {
   "cell_type": "markdown",
   "metadata": {
    "slideshow": {
     "slide_type": "slide"
    }
   },
   "source": [
    "<div>\n",
    "<center>\n",
    "<img src=\"resources/LFR_OFFSET_BUG.png\" width=\"80%\" align=\"center\">\n",
    "</center>\n",
    "</div>"
   ]
  },
  {
   "cell_type": "markdown",
   "metadata": {
    "slideshow": {
     "slide_type": "slide"
    }
   },
   "source": [
    "<div>\n",
    "<center>\n",
    "<img src=\"resources/LFR_OFFSET_NOBUG.png\" width=\"80%\" align=\"center\">\n",
    "</center>\n",
    "</div>"
   ]
  },
  {
   "cell_type": "markdown",
   "metadata": {
    "slideshow": {
     "slide_type": "slide"
    }
   },
   "source": [
    "# Offset bug\n",
    "\n",
    "- When initialized with random content a fixed point recursive filter may start in an \"unstable\" state \n",
    "- Doesn't affect floating point implementation of recursive filters\n",
    "- Always reset filters with 0!"
   ]
  },
  {
   "cell_type": "markdown",
   "metadata": {
    "slideshow": {
     "slide_type": "slide"
    }
   },
   "source": [
    "# Done with bugs?"
   ]
  },
  {
   "cell_type": "markdown",
   "metadata": {
    "slideshow": {
     "slide_type": "slide"
    }
   },
   "source": [
    "<div>\n",
    "<center>\n",
    "<img src=\"resources/BUG_MACHINE.jpeg\" width=\"40%\" align=\"center\">\n",
    "</center>\n",
    "</div>"
   ]
  },
  {
   "cell_type": "markdown",
   "metadata": {
    "slideshow": {
     "slide_type": "slide"
    }
   },
   "source": [
    "# ADC bug -20°C\n",
    "\n",
    "<div>\n",
    "<center>\n",
    "<img src=\"resources/ADC_BUG_WF.png\" width=\"80%\" align=\"center\">\n",
    "</center>\n",
    "</div>"
   ]
  },
  {
   "cell_type": "markdown",
   "metadata": {
    "slideshow": {
     "slide_type": "slide"
    }
   },
   "source": [
    "# ADC bug\n",
    "\n",
    "<div>\n",
    "<center>\n",
    "<img src=\"resources/ADC_BUG_SPECT.png\" width=\"90%\" align=\"center\">\n",
    "</center>\n",
    "</div>"
   ]
  },
  {
   "cell_type": "markdown",
   "metadata": {
    "ExecuteTime": {
     "end_time": "2018-10-03T19:10:36.512619Z",
     "start_time": "2018-10-03T19:10:36.505470Z"
    },
    "slideshow": {
     "slide_type": "slide"
    }
   },
   "source": [
    "<div>\n",
    "<center>\n",
    "<img src=\"resources/PCB_LFR.png\" width=\"80%\" align=\"center\">\n",
    "</center>\n",
    "</div>"
   ]
  },
  {
   "cell_type": "markdown",
   "metadata": {
    "ExecuteTime": {
     "end_time": "2018-10-03T19:11:51.841880Z",
     "start_time": "2018-10-03T19:11:51.834797Z"
    },
    "slideshow": {
     "slide_type": "slide"
    }
   },
   "source": [
    "# ADC bug \n",
    "## Layout equivalent model\n",
    "<div>\n",
    "<center>\n",
    "<img src=\"resources/CLK_EQ_DIAG.png\" width=\"80%\" align=\"center\">\n",
    "</center>\n",
    "</div>"
   ]
  },
  {
   "cell_type": "markdown",
   "metadata": {
    "slideshow": {
     "slide_type": "slide"
    }
   },
   "source": [
    "# ADC bug\n",
    "## QUCS simulation\n",
    "<div>\n",
    "<center>\n",
    "<img src=\"resources/QUCS_CLK.png\" width=\"80%\" align=\"center\">\n",
    "</center>\n",
    "</div>"
   ]
  },
  {
   "cell_type": "markdown",
   "metadata": {
    "slideshow": {
     "slide_type": "slide"
    }
   },
   "source": [
    "# ADC bug\n",
    "## Conclusion\n",
    "\n",
    "- Mostly related to PCB\n",
    "- Thermal models shows that LFR won't be colder than 10°C\n",
    "- Components involved in the model don't changes with radiations\n",
    "- That was really a mistake to connect 8 ADCs on the same CLK"
   ]
  },
  {
   "cell_type": "markdown",
   "metadata": {
    "slideshow": {
     "slide_type": "slide"
    }
   },
   "source": [
    "<div>\n",
    "<center>\n",
    "<img src=\"resources/ignore-so-hard.jpg\" width=\"90%\" align=\"center\">\n",
    "</center>\n",
    "</div>"
   ]
  },
  {
   "cell_type": "markdown",
   "metadata": {
    "slideshow": {
     "slide_type": "slide"
    }
   },
   "source": [
    "<div>\n",
    "<center>\n",
    "<img src=\"resources/automated-tests.jpg\" width=\"60%\" align=\"center\">\n",
    "</center>\n",
    "</div>"
   ]
  },
  {
   "cell_type": "markdown",
   "metadata": {
    "slideshow": {
     "slide_type": "slide"
    }
   },
   "source": [
    "# Reminder, LFR SOC\n",
    "<div>\n",
    "<center>\n",
    "<img src=\"resources/LFR_SOC.png\" width=\"60%\" align=\"center\">\n",
    "</center>\n",
    "</div>"
   ]
  },
  {
   "cell_type": "markdown",
   "metadata": {
    "slideshow": {
     "slide_type": "slide"
    }
   },
   "source": [
    "# Existing solutions?\n",
    "## Grmon?\n",
    "\n",
    "- Closed source -> not extensible\n",
    "- Expensive\n",
    "- Can't be scripted with Python\n",
    "- Focuses on Gaisler products"
   ]
  },
  {
   "cell_type": "markdown",
   "metadata": {
    "slideshow": {
     "slide_type": "slide"
    }
   },
   "source": [
    "# SocExplorer \n",
    "## a flexible framework to test them all\n",
    "\n",
    "- Focuses on SOC control/exploration\n",
    "- Allows from IP unit testing to system level performances measurements\n",
    "- From manual registers investigation to automated head-less tests batch\n",
    "- Gives a remote access to the whole SOC memory from your computer\n",
    "- Heavily extensible with plugins\n",
    "- Script with Python -> can virtually do anything with python\n",
    "- Used for all LFR tests, from hardware to software"
   ]
  },
  {
   "cell_type": "markdown",
   "metadata": {
    "slideshow": {
     "slide_type": "slide"
    }
   },
   "source": [
    "<div>\n",
    "<center>\n",
    "<img src=\"resources/SocExplorer1.png\" width=\"80%\" align=\"center\">\n",
    "</center>\n",
    "</div>"
   ]
  },
  {
   "cell_type": "markdown",
   "metadata": {
    "slideshow": {
     "slide_type": "slide"
    }
   },
   "source": [
    "<div>\n",
    "<center>\n",
    "<img src=\"resources/SocExplorer2.png\" width=\"80%\" align=\"center\">\n",
    "</center>\n",
    "</div>"
   ]
  },
  {
   "cell_type": "markdown",
   "metadata": {
    "slideshow": {
     "slide_type": "slide"
    }
   },
   "source": [
    "<div>\n",
    "<center>\n",
    "<img src=\"resources/SocExplorer3.png\" width=\"100%\" align=\"center\">\n",
    "</center>\n",
    "</div>"
   ]
  },
  {
   "cell_type": "markdown",
   "metadata": {
    "slideshow": {
     "slide_type": "slide"
    }
   },
   "source": [
    "# SocExplorer \n",
    "## LFR 2nd gen python test framework\n",
    "\n",
    "- Uses a generic launcher script\n",
    "- Inspired by C++ unit tests frameworks (GTests or QTests)\n",
    "- Allows to build tests from simple boot test to TF\n",
    "- Allows high repeatability\n",
    "- Intensive use of Python serialization features"
   ]
  },
  {
   "cell_type": "markdown",
   "metadata": {
    "slideshow": {
     "slide_type": "slide"
    }
   },
   "source": [
    "# SocExplorer \n",
    "## Setup example"
   ]
  },
  {
   "cell_type": "markdown",
   "metadata": {
    "slideshow": {
     "slide_type": "slide"
    }
   },
   "source": [
    "<div>\n",
    "<center>\n",
    "<img src=\"resources/SetupSynchro.png\" width=\"100%\" align=\"center\">\n",
    "</center>\n",
    "</div>"
   ]
  },
  {
   "cell_type": "markdown",
   "metadata": {
    "slideshow": {
     "slide_type": "slide"
    }
   },
   "source": [
    "# Lessons learned\n",
    "\n",
    "- What is not tested doesn't work\n",
    "- Tools are the key to success\n",
    "- Prefer open source solutions to proprietary ones"
   ]
  },
  {
   "cell_type": "markdown",
   "metadata": {
    "slideshow": {
     "slide_type": "slide"
    }
   },
   "source": [
    "# What next?\n",
    "\n",
    "- Both code and HW are **open source**!\n",
    "- Next generation could rely on tinny **CPU arrays** -> **ASIC**? **RISC-V**?\n",
    "- Onboard **machine learning** for event detection and classification\n",
    "- A lot of **reusable blocks** for ground equipment\n",
    "- Open source flexible testbench under development\n",
    "- Analyzers knowledge used for next generation digital search-coils"
   ]
  },
  {
   "cell_type": "markdown",
   "metadata": {
    "slideshow": {
     "slide_type": "slide"
    }
   },
   "source": [
    "# Contributors:\n",
    "- Thomas Chust\n",
    "- Paul Leroy\n",
    "- Martin Morlot\n",
    "- Yannic Simon\n",
    "- Clotilde Laigle\n",
    "- Pedro Luiz Coelho Rodrigues\n",
    "- Gerald Saule\n",
    "- Jean-Christophe Pellion\n",
    "- Bruno Katra\n",
    "- Veronique Bouzid"
   ]
  }
 ],
 "metadata": {
  "celltoolbar": "Diaporama",
  "hide_input": false,
  "kernelspec": {
   "display_name": "Python 3",
   "language": "python",
   "name": "python3"
  },
  "language_info": {
   "codemirror_mode": {
    "name": "ipython",
    "version": 3
   },
   "file_extension": ".py",
   "mimetype": "text/x-python",
   "name": "python",
   "nbconvert_exporter": "python",
   "pygments_lexer": "ipython3",
   "version": "3.7.0"
  },
  "varInspector": {
   "cols": {
    "lenName": 16,
    "lenType": 16,
    "lenVar": 40
   },
   "kernels_config": {
    "python": {
     "delete_cmd_postfix": "",
     "delete_cmd_prefix": "del ",
     "library": "var_list.py",
     "varRefreshCmd": "print(var_dic_list())"
    },
    "r": {
     "delete_cmd_postfix": ") ",
     "delete_cmd_prefix": "rm(",
     "library": "var_list.r",
     "varRefreshCmd": "cat(var_dic_list()) "
    }
   },
   "types_to_exclude": [
    "module",
    "function",
    "builtin_function_or_method",
    "instance",
    "_Feature"
   ],
   "window_display": false
  }
 },
 "nbformat": 4,
 "nbformat_minor": 2
}
