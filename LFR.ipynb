{
 "cells": [
  {
   "cell_type": "markdown",
   "metadata": {
    "ExecuteTime": {
     "end_time": "2018-10-01T17:53:00.643915Z",
     "start_time": "2018-10-01T17:53:00.636038Z"
    },
    "code_folding": [],
    "slideshow": {
     "slide_type": "slide"
    }
   },
   "source": [
    "# Low Frequency Receiver (LFR)\n",
    "\n",
    "<div>\n",
    "<center>\n",
    "<img src=\"resources/solar-orbiter-landscape-image-astrium.jpg\" width=\"800\" align=\"center\">\n",
    "</center>\n",
    "</div>\n",
    "\n",
    "<div>\n",
    "<center>\n",
    "<img src=\"resources/logo_LPP.png\" width=\"200\" align=\"left\">\n",
    "</center>\n",
    "</div>\n",
    "\n",
    "<p align=\"center\">\n",
    "  <b>Alexis Jeandet &lt;alexis.jeandet@lpp.polytechnique.fr&gt;:</b><br>\n",
    "  <a href=\"https://github.com/jeandet\">Github:jeandet</a> |\n",
    "  <a href=\"https://gitter.im/jeandet\">Gitter:jeandet</a> |\n",
    "  <a href=\"https://freenode.net/\">IRC@freenode:jeandet</a>\n",
    "  <br>\n",
    "</p>\n"
   ]
  },
  {
   "cell_type": "markdown",
   "metadata": {
    "slideshow": {
     "slide_type": "slide"
    }
   },
   "source": [
    "# Laboratory of Plasma Physics (LPP)\n"
   ]
  },
  {
   "cell_type": "markdown",
   "metadata": {
    "slideshow": {
     "slide_type": "subslide"
    }
   },
   "source": [
    "# Laboratory of Plasma Physics (LPP)\n",
    "\n",
    "- Since 2009, fusion between LPTP and CETP\n",
    "- Around 110+ people \n",
    "- 3 Scientific teams, [Fusion, Cold, Space] Plasmas "
   ]
  },
  {
   "cell_type": "markdown",
   "metadata": {
    "slideshow": {
     "slide_type": "subslide"
    }
   },
   "source": [
    "# Laboratory of Plasma Physics (LPP)\n",
    "\n",
    "\n",
    "- Plasmas are used in many daily applications, TVs, lights, energy production, air cleaning, IC manufacturing...  \n",
    "\n",
    "- On the cosmic scale, 99 % of observed matter is ionized and therefore in the plasma state.\n"
   ]
  },
  {
   "cell_type": "markdown",
   "metadata": {
    "slideshow": {
     "slide_type": "subslide"
    }
   },
   "source": [
    "# Laboratory of Plasma Physics (LPP)\n",
    "\n",
    "- Natural Plasmas are mostly in space and need in-situ measurements such as:\n",
    " - particles (**particles detectors**, spectrometers) \n",
    " - E-field (Electric antenna)\n",
    " - B-field (**Search-coils**, Flux-gates)"
   ]
  },
  {
   "cell_type": "markdown",
   "metadata": {
    "slideshow": {
     "slide_type": "slide"
    }
   },
   "source": [
    "# Solar Orbiter\n",
    "\n",
    "- Sun observatory and Solar wind in-situ measurements\n",
    "- Launch date: end of 2020\n",
    "- Orbit 0.3 -> 0.8 AU\n",
    "- Mass total/payload: 1800kg/190kg\n",
    "- **Power 1100W**\n",
    "- **Data downlink ~150 kbps**"
   ]
  },
  {
   "cell_type": "markdown",
   "metadata": {
    "slideshow": {
     "slide_type": "subslide"
    }
   },
   "source": [
    "<div>\n",
    "<center>\n",
    "<img src=\"resources/Solar_Orbiter_payload_annotated_625.jpg\" width=\"800\" align=\"center\">\n",
    "</center>\n",
    "</div>\n"
   ]
  },
  {
   "cell_type": "markdown",
   "metadata": {
    "slideshow": {
     "slide_type": "subslide"
    }
   },
   "source": [
    "# Solar Orbiter\n",
    "\n",
    "Small amount of telemetry implies heavy onboard computation."
   ]
  },
  {
   "cell_type": "markdown",
   "metadata": {
    "slideshow": {
     "slide_type": "slide"
    }
   },
   "source": [
    "# Radio Plasma Waves instrument (RPW)\n",
    "\n",
    "- Focuses on waves( **E field** & **B field** ) measurements from **~0Hz** to **16MHz**\n",
    "- Composed of:\n",
    " - **BIAS** \n",
    " - **TNR-HFR**\n",
    " - **TDS**\n",
    " - **DPU**\n",
    " - **LVPS-PDU**\n",
    " - **SCM**\n",
    " - **LFR** [x]\n",
    "\n",
    "\n",
    "TODO add MEB spec"
   ]
  },
  {
   "cell_type": "markdown",
   "metadata": {
    "ExecuteTime": {
     "end_time": "2018-10-02T17:36:38.087646Z",
     "start_time": "2018-10-02T17:36:38.083481Z"
    },
    "slideshow": {
     "slide_type": "subslide"
    }
   },
   "source": [
    "# Radio Plasma Waves instrument (RPW)\n",
    "\n",
    "<div>\n",
    "<center>\n",
    "<img src=\"resources/principe_RPW.png\" width=\"800\" align=\"center\">\n",
    "</center>\n",
    "</div>\n"
   ]
  },
  {
   "cell_type": "markdown",
   "metadata": {
    "slideshow": {
     "slide_type": "slide"
    }
   },
   "source": [
    "# Low Frequency Receiver (LFR)\n",
    "\n",
    "- **E** and **B** waves from ~0Hz to 10kHz\n",
    "- 2W, few kbits "
   ]
  },
  {
   "cell_type": "markdown",
   "metadata": {
    "slideshow": {
     "slide_type": "slide"
    }
   },
   "source": [
    "# LFR processing "
   ]
  },
  {
   "cell_type": "code",
   "execution_count": null,
   "metadata": {},
   "outputs": [],
   "source": []
  }
 ],
 "metadata": {
  "celltoolbar": "Diaporama",
  "hide_input": false,
  "kernelspec": {
   "display_name": "Python 3",
   "language": "python",
   "name": "python3"
  },
  "language_info": {
   "codemirror_mode": {
    "name": "ipython",
    "version": 3
   },
   "file_extension": ".py",
   "mimetype": "text/x-python",
   "name": "python",
   "nbconvert_exporter": "python",
   "pygments_lexer": "ipython3",
   "version": "3.7.0"
  },
  "varInspector": {
   "cols": {
    "lenName": 16,
    "lenType": 16,
    "lenVar": 40
   },
   "kernels_config": {
    "python": {
     "delete_cmd_postfix": "",
     "delete_cmd_prefix": "del ",
     "library": "var_list.py",
     "varRefreshCmd": "print(var_dic_list())"
    },
    "r": {
     "delete_cmd_postfix": ") ",
     "delete_cmd_prefix": "rm(",
     "library": "var_list.r",
     "varRefreshCmd": "cat(var_dic_list()) "
    }
   },
   "types_to_exclude": [
    "module",
    "function",
    "builtin_function_or_method",
    "instance",
    "_Feature"
   ],
   "window_display": false
  }
 },
 "nbformat": 4,
 "nbformat_minor": 2
}
